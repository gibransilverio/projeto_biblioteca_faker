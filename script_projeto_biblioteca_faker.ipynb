{
 "cells": [
  {
   "cell_type": "code",
   "execution_count": null,
   "metadata": {
    "application/vnd.databricks.v1+cell": {
     "cellMetadata": {
      "byteLimit": 2048000,
      "rowLimit": 10000
     },
     "inputWidgets": {},
     "nuid": "55ee3347-7eba-470d-9f0b-e74fdd0bd7d6",
     "showTitle": false,
     "title": ""
    }
   },
   "outputs": [],
   "source": [
    "%pip install cpf-generator\n",
    "%pip install faker\n",
    "\n",
    "import pandas as pd\n",
    "import numpy as np\n",
    "import random\n",
    "import datetime\n",
    "from faker import Faker\n",
    "from cpf_generator import CPF\n"
   ]
  },
  {
   "cell_type": "code",
   "execution_count": null,
   "metadata": {
    "application/vnd.databricks.v1+cell": {
     "cellMetadata": {
      "byteLimit": 2048000,
      "rowLimit": 10000
     },
     "inputWidgets": {},
     "nuid": "a1c050cc-d4e0-4031-acff-e804193b531a",
     "showTitle": false,
     "title": ""
    }
   },
   "outputs": [
    {
     "data": {
      "application/vnd.databricks.v1+bamboolib_hint": "{\"pd.DataFrames\": [], \"version\": \"0.0.1\"}",
      "text/plain": []
     },
     "metadata": {},
     "output_type": "display_data"
    }
   ],
   "source": [
    "import pandas as pd\n",
    "import numpy as np\n",
    "import random\n",
    "import datetime\n",
    "from faker import Faker\n",
    "from cpf_generator import CPF\n"
   ]
  },
  {
   "cell_type": "code",
   "execution_count": null,
   "metadata": {
    "application/vnd.databricks.v1+cell": {
     "cellMetadata": {
      "byteLimit": 2048000,
      "rowLimit": 10000
     },
     "inputWidgets": {},
     "nuid": "df626930-fd50-4782-a91e-c803be06115f",
     "showTitle": false,
     "title": ""
    }
   },
   "outputs": [],
   "source": [
    "# Gerador FAKE\n",
    "Gerador_Faker = Faker( locale='pt_BR' )\n",
    "Gerador_CPF = CPF.generate()\n",
    "\n",
    "\n",
    "# Gerar o RG\n",
    "# Sequencia 9 digitos + Estado de Origem\n",
    "\n",
    "def Gerador_RG():\n",
    "\n",
    "  # Cria uma sequencia de 9 digits\n",
    "  Numero_RG = str( random.randint(100000000, 999999999) )\n",
    "\n",
    "  # Estados\n",
    "  Estado_Origem = str( random.randint(0, 9) )\n",
    "\n",
    "  # Juntar ambos\n",
    "  Numero = f'{Numero_RG}-{Estado_Origem}'\n",
    "\n",
    "  return Numero"
   ]
  },
  {
   "cell_type": "code",
   "execution_count": null,
   "metadata": {
    "application/vnd.databricks.v1+cell": {
     "cellMetadata": {
      "byteLimit": 2048000,
      "rowLimit": 10000
     },
     "inputWidgets": {},
     "nuid": "74fdd9db-dd15-4e83-8cf0-24892eee054f",
     "showTitle": false,
     "title": ""
    }
   },
   "outputs": [
    {
     "data": {
      "text/html": [
       "<style scoped>\n",
       "  .table-result-container {\n",
       "    max-height: 300px;\n",
       "    overflow: auto;\n",
       "  }\n",
       "  table, th, td {\n",
       "    border: 1px solid black;\n",
       "    border-collapse: collapse;\n",
       "  }\n",
       "  th, td {\n",
       "    padding: 5px;\n",
       "  }\n",
       "  th {\n",
       "    text-align: left;\n",
       "  }\n",
       "</style><div class='table-result-container'><table class='table-result'><thead style='background-color: white'><tr><th>CPF</th><th>Data Admissão</th><th>Data Nascimento</th><th>Departamento</th><th>Empresa</th><th>ID</th><th>Nome</th><th>RG</th></tr></thead><tbody><tr><td>00641648456</td><td>2018-06-13</td><td>2000-02-03</td><td>Adm</td><td>GCP</td><td>1</td><td>Ana Sophia das Neves</td><td>630872107-7</td></tr><tr><td>79317942148</td><td>2020-05-29</td><td>1988-04-25</td><td>Operações</td><td>GCP</td><td>2</td><td>Igor Carvalho</td><td>163194938-1</td></tr><tr><td>89681176839</td><td>2017-07-31</td><td>1979-06-01</td><td>Adm</td><td>AZURE</td><td>3</td><td>Benjamin Souza</td><td>397306056-1</td></tr><tr><td>94875296835</td><td>2018-11-11</td><td>1972-09-28</td><td>Tecnologia</td><td>GCP</td><td>4</td><td>Dr. Cauã Cardoso</td><td>186415686-7</td></tr><tr><td>84082627855</td><td>2018-01-24</td><td>1989-01-27</td><td>Tecnologia</td><td>GCP</td><td>5</td><td>Thomas Fernandes</td><td>153735113-5</td></tr><tr><td>16712424321</td><td>2021-03-21</td><td>1983-03-04</td><td>Adm</td><td>AZURE</td><td>6</td><td>João Pedro Pires</td><td>660070999-1</td></tr><tr><td>84827815453</td><td>2017-11-15</td><td>1988-03-11</td><td>Operações</td><td>AZURE</td><td>7</td><td>Camila Costa</td><td>653613411-5</td></tr><tr><td>43550750102</td><td>2020-07-27</td><td>1978-11-17</td><td>Tecnologia</td><td>AZURE</td><td>8</td><td>Alexia Farias</td><td>394241627-8</td></tr><tr><td>02834633177</td><td>2019-03-20</td><td>1996-11-19</td><td>Adm</td><td>GCP</td><td>9</td><td>Stella Ferreira</td><td>965541093-9</td></tr><tr><td>57928754800</td><td>2017-12-01</td><td>1998-09-13</td><td>Tecnologia</td><td>AZURE</td><td>10</td><td>Danilo Novaes</td><td>862883541-5</td></tr></tbody></table></div>"
      ]
     },
     "metadata": {
      "application/vnd.databricks.v1+output": {
       "addedWidgets": {},
       "aggData": [],
       "aggError": "",
       "aggOverflow": false,
       "aggSchema": [],
       "aggSeriesLimitReached": false,
       "aggType": "",
       "arguments": {},
       "columnCustomDisplayInfos": {},
       "data": [
        [
         "00641648456",
         "2018-06-13",
         "2000-02-03",
         "Adm",
         "GCP",
         1,
         "Ana Sophia das Neves",
         "630872107-7"
        ],
        [
         "79317942148",
         "2020-05-29",
         "1988-04-25",
         "Operações",
         "GCP",
         2,
         "Igor Carvalho",
         "163194938-1"
        ],
        [
         "89681176839",
         "2017-07-31",
         "1979-06-01",
         "Adm",
         "AZURE",
         3,
         "Benjamin Souza",
         "397306056-1"
        ],
        [
         "94875296835",
         "2018-11-11",
         "1972-09-28",
         "Tecnologia",
         "GCP",
         4,
         "Dr. Cauã Cardoso",
         "186415686-7"
        ],
        [
         "84082627855",
         "2018-01-24",
         "1989-01-27",
         "Tecnologia",
         "GCP",
         5,
         "Thomas Fernandes",
         "153735113-5"
        ],
        [
         "16712424321",
         "2021-03-21",
         "1983-03-04",
         "Adm",
         "AZURE",
         6,
         "João Pedro Pires",
         "660070999-1"
        ],
        [
         "84827815453",
         "2017-11-15",
         "1988-03-11",
         "Operações",
         "AZURE",
         7,
         "Camila Costa",
         "653613411-5"
        ],
        [
         "43550750102",
         "2020-07-27",
         "1978-11-17",
         "Tecnologia",
         "AZURE",
         8,
         "Alexia Farias",
         "394241627-8"
        ],
        [
         "02834633177",
         "2019-03-20",
         "1996-11-19",
         "Adm",
         "GCP",
         9,
         "Stella Ferreira",
         "965541093-9"
        ],
        [
         "57928754800",
         "2017-12-01",
         "1998-09-13",
         "Tecnologia",
         "AZURE",
         10,
         "Danilo Novaes",
         "862883541-5"
        ]
       ],
       "datasetInfos": [],
       "dbfsResultPath": null,
       "isJsonSchema": true,
       "metadata": {},
       "overflow": false,
       "plotOptions": {
        "customPlotOptions": {},
        "displayType": "table",
        "pivotAggregation": null,
        "pivotColumns": null,
        "xColumns": null,
        "yColumns": null
       },
       "removedWidgets": [],
       "schema": [
        {
         "metadata": "{}",
         "name": "CPF",
         "type": "\"string\""
        },
        {
         "metadata": "{}",
         "name": "Data Admissão",
         "type": "\"date\""
        },
        {
         "metadata": "{}",
         "name": "Data Nascimento",
         "type": "\"date\""
        },
        {
         "metadata": "{}",
         "name": "Departamento",
         "type": "\"string\""
        },
        {
         "metadata": "{}",
         "name": "Empresa",
         "type": "\"string\""
        },
        {
         "metadata": "{}",
         "name": "ID",
         "type": "\"long\""
        },
        {
         "metadata": "{}",
         "name": "Nome",
         "type": "\"string\""
        },
        {
         "metadata": "{}",
         "name": "RG",
         "type": "\"string\""
        }
       ],
       "type": "table"
      }
     },
     "output_type": "display_data"
    }
   ],
   "source": [
    "#Variaveis de apoio\n",
    "\n",
    "Contador = 10\n",
    "\n",
    "id_contador = 0 \n",
    "\n",
    "# Dados sinteticos\n",
    "Dados_Loop = []\n",
    "\n",
    "for x in range(Contador):\n",
    "\n",
    " # GErar o CPF para cada interação\n",
    " Gerador_CPF = CPF.generate()\n",
    "\n",
    " Dados = {\n",
    "   'ID' : id_contador + 1,\n",
    "   'Nome' : Gerador_Faker.name(),\n",
    "   'Data Nascimento' : Gerador_Faker.date_of_birth(minimum_age=18, maximum_age=50),\n",
    "   'CPF' : Gerador_CPF,\n",
    "   'RG' : Gerador_RG(),\n",
    "   'Empresa' : random.choice(['AZURE', 'AWS', 'GCP']),   \n",
    "   'Data Admissão' : Gerador_Faker.date_of_birth(minimum_age=2, maximum_age=5),   \n",
    "   'Departamento' : random.choice( ['Operações', 'Adm', 'Tecnologia'] )\n",
    " }\n",
    "\n",
    " id_contador += 1\n",
    "\n",
    " Dados_Loop.append(Dados)\n",
    "\n",
    "\n",
    "df = spark.createDataFrame(Dados_Loop)\n",
    "\n",
    "display(df)\n"
   ]
  },
  {
   "cell_type": "code",
   "execution_count": null,
   "metadata": {
    "application/vnd.databricks.v1+cell": {
     "cellMetadata": {
      "byteLimit": 2048000,
      "rowLimit": 10000
     },
     "inputWidgets": {},
     "nuid": "eecae0bf-1ac2-4d26-9013-8d078fa094c4",
     "showTitle": false,
     "title": ""
    }
   },
   "outputs": [],
   "source": [
    "dbutils.fs.mount(\n",
    " source = \"wasbs://projetodados@storageprojetoengdados.blob.core.windows.net\",\n",
    " mount_point = \"/mnt/projetodados\", \n",
    " extra_configs = {\"fs.azure.account.key.storageprojetoengdados.blob.core.windows.net\":\"L/NL7PxKQ88pOrYwJT1vx+ryH79wo/4TUKN0Ub3yppvzn9DRRH3L4nn7cuPj+fDVeAd4CKrtqX66+AStETjNvg==\"}\n",
    " )"
   ]
  },
  {
   "cell_type": "code",
   "execution_count": null,
   "metadata": {
    "application/vnd.databricks.v1+cell": {
     "cellMetadata": {
      "byteLimit": 2048000,
      "rowLimit": 10000
     },
     "inputWidgets": {},
     "nuid": "dc0b7be7-e2d2-47d2-afbc-c9c52988ce19",
     "showTitle": false,
     "title": ""
    }
   },
   "outputs": [],
   "source": [
    "df.coalesce(1).write.format(\"csv\")\\\n",
    "         .mode(\"overwrite\")\\\n",
    "         .option(\"header\", \"True\")\\\n",
    "         .option(\"inferSchema\",\"True\")\\\n",
    "         .save(\"/mnt/projetodados/raw/faker/\")\n"
   ]
  },
  {
   "cell_type": "code",
   "execution_count": null,
   "metadata": {
    "application/vnd.databricks.v1+cell": {
     "cellMetadata": {
      "byteLimit": 2048000,
      "rowLimit": 10000
     },
     "inputWidgets": {},
     "nuid": "59340ac2-7ec0-4bad-b29f-9edef894a1a5",
     "showTitle": false,
     "title": ""
    }
   },
   "outputs": [],
   "source": [
    " def mover_arquivo(extensao, origem, destino, novo_nome):\n",
    "     files = dbutils.fs.ls(origem)\n",
    " \n",
    "     for i in range(0, len(files)):\n",
    "         file = files[i].name\n",
    "        \n",
    "         if extensao in file:\n",
    "            dbutils.fs.cp(files[i].path, destino + novo_nome + extensao)\n",
    "            print('Origem é: ' + file + ' ' + 'Destino é: ' + destino + novo_nome + extensao)\n",
    " "
   ]
  },
  {
   "cell_type": "code",
   "execution_count": null,
   "metadata": {
    "application/vnd.databricks.v1+cell": {
     "cellMetadata": {
      "byteLimit": 2048000,
      "rowLimit": 10000
     },
     "inputWidgets": {},
     "nuid": "91d8a6ac-68bd-4fa9-932b-6989f8219088",
     "showTitle": false,
     "title": ""
    }
   },
   "outputs": [
    {
     "name": "stdout",
     "output_type": "stream",
     "text": [
      "Origem é: part-00000-tid-8472187731717505212-f0b8f5b5-5990-47ec-a455-98a367a468e7-24-1-c000.csv Destino é: /mnt/projetodados/processing/faker_process/faker.csv\n"
     ]
    }
   ],
   "source": [
    "mover_arquivo('.csv', '/mnt/projetodados/raw/faker/', '/mnt/projetodados/processing/faker_process/', 'faker')"
   ]
  },
  {
   "cell_type": "code",
   "execution_count": null,
   "metadata": {
    "application/vnd.databricks.v1+cell": {
     "cellMetadata": {
      "byteLimit": 2048000,
      "rowLimit": 10000
     },
     "inputWidgets": {},
     "nuid": "2e9cf745-4489-4fee-9bef-6ce6d75a9a90",
     "showTitle": false,
     "title": ""
    }
   },
   "outputs": [],
   "source": [
    "df_new = spark.read.format(\"csv\")\\\n",
    "             .option(\"header\", \"True\")\\\n",
    "             .option(\"inferSchema\",\"True\")\\\n",
    "             .load(\"/mnt/projetodados/processing/faker_process/faker.csv\")\n"
   ]
  },
  {
   "cell_type": "code",
   "execution_count": null,
   "metadata": {
    "application/vnd.databricks.v1+cell": {
     "cellMetadata": {
      "byteLimit": 2048000,
      "rowLimit": 10000
     },
     "inputWidgets": {},
     "nuid": "2d8bfa68-8bdd-466f-98c0-38d2aa8f5eaa",
     "showTitle": false,
     "title": ""
    }
   },
   "outputs": [
    {
     "data": {
      "text/html": [
       "<style scoped>\n",
       "  .table-result-container {\n",
       "    max-height: 300px;\n",
       "    overflow: auto;\n",
       "  }\n",
       "  table, th, td {\n",
       "    border: 1px solid black;\n",
       "    border-collapse: collapse;\n",
       "  }\n",
       "  th, td {\n",
       "    padding: 5px;\n",
       "  }\n",
       "  th {\n",
       "    text-align: left;\n",
       "  }\n",
       "</style><div class='table-result-container'><table class='table-result'><thead style='background-color: white'><tr><th>CPF</th><th>Data Admissão</th><th>Data Nascimento</th><th>Departamento</th><th>Empresa</th><th>ID</th><th>Nome</th><th>RG</th></tr></thead><tbody><tr><td>641648456</td><td>2018-06-13</td><td>2000-02-03</td><td>Adm</td><td>GCP</td><td>1</td><td>Ana Sophia das Neves</td><td>630872107-7</td></tr><tr><td>79317942148</td><td>2020-05-29</td><td>1988-04-25</td><td>Operações</td><td>GCP</td><td>2</td><td>Igor Carvalho</td><td>163194938-1</td></tr><tr><td>89681176839</td><td>2017-07-31</td><td>1979-06-01</td><td>Adm</td><td>AZURE</td><td>3</td><td>Benjamin Souza</td><td>397306056-1</td></tr><tr><td>94875296835</td><td>2018-11-11</td><td>1972-09-28</td><td>Tecnologia</td><td>GCP</td><td>4</td><td>Dr. Cauã Cardoso</td><td>186415686-7</td></tr><tr><td>84082627855</td><td>2018-01-24</td><td>1989-01-27</td><td>Tecnologia</td><td>GCP</td><td>5</td><td>Thomas Fernandes</td><td>153735113-5</td></tr><tr><td>16712424321</td><td>2021-03-21</td><td>1983-03-04</td><td>Adm</td><td>AZURE</td><td>6</td><td>João Pedro Pires</td><td>660070999-1</td></tr><tr><td>84827815453</td><td>2017-11-15</td><td>1988-03-11</td><td>Operações</td><td>AZURE</td><td>7</td><td>Camila Costa</td><td>653613411-5</td></tr><tr><td>43550750102</td><td>2020-07-27</td><td>1978-11-17</td><td>Tecnologia</td><td>AZURE</td><td>8</td><td>Alexia Farias</td><td>394241627-8</td></tr><tr><td>2834633177</td><td>2019-03-20</td><td>1996-11-19</td><td>Adm</td><td>GCP</td><td>9</td><td>Stella Ferreira</td><td>965541093-9</td></tr><tr><td>57928754800</td><td>2017-12-01</td><td>1998-09-13</td><td>Tecnologia</td><td>AZURE</td><td>10</td><td>Danilo Novaes</td><td>862883541-5</td></tr></tbody></table></div>"
      ]
     },
     "metadata": {
      "application/vnd.databricks.v1+output": {
       "addedWidgets": {},
       "aggData": [],
       "aggError": "",
       "aggOverflow": false,
       "aggSchema": [],
       "aggSeriesLimitReached": false,
       "aggType": "",
       "arguments": {},
       "columnCustomDisplayInfos": {},
       "data": [
        [
         641648456,
         "2018-06-13",
         "2000-02-03",
         "Adm",
         "GCP",
         1,
         "Ana Sophia das Neves",
         "630872107-7"
        ],
        [
         79317942148,
         "2020-05-29",
         "1988-04-25",
         "Operações",
         "GCP",
         2,
         "Igor Carvalho",
         "163194938-1"
        ],
        [
         89681176839,
         "2017-07-31",
         "1979-06-01",
         "Adm",
         "AZURE",
         3,
         "Benjamin Souza",
         "397306056-1"
        ],
        [
         94875296835,
         "2018-11-11",
         "1972-09-28",
         "Tecnologia",
         "GCP",
         4,
         "Dr. Cauã Cardoso",
         "186415686-7"
        ],
        [
         84082627855,
         "2018-01-24",
         "1989-01-27",
         "Tecnologia",
         "GCP",
         5,
         "Thomas Fernandes",
         "153735113-5"
        ],
        [
         16712424321,
         "2021-03-21",
         "1983-03-04",
         "Adm",
         "AZURE",
         6,
         "João Pedro Pires",
         "660070999-1"
        ],
        [
         84827815453,
         "2017-11-15",
         "1988-03-11",
         "Operações",
         "AZURE",
         7,
         "Camila Costa",
         "653613411-5"
        ],
        [
         43550750102,
         "2020-07-27",
         "1978-11-17",
         "Tecnologia",
         "AZURE",
         8,
         "Alexia Farias",
         "394241627-8"
        ],
        [
         2834633177,
         "2019-03-20",
         "1996-11-19",
         "Adm",
         "GCP",
         9,
         "Stella Ferreira",
         "965541093-9"
        ],
        [
         57928754800,
         "2017-12-01",
         "1998-09-13",
         "Tecnologia",
         "AZURE",
         10,
         "Danilo Novaes",
         "862883541-5"
        ]
       ],
       "datasetInfos": [],
       "dbfsResultPath": null,
       "isJsonSchema": true,
       "metadata": {},
       "overflow": false,
       "plotOptions": {
        "customPlotOptions": {},
        "displayType": "table",
        "pivotAggregation": null,
        "pivotColumns": null,
        "xColumns": null,
        "yColumns": null
       },
       "removedWidgets": [],
       "schema": [
        {
         "metadata": "{}",
         "name": "CPF",
         "type": "\"long\""
        },
        {
         "metadata": "{\"__detected_date_formats\":\"yyyy-M-d\"}",
         "name": "Data Admissão",
         "type": "\"date\""
        },
        {
         "metadata": "{\"__detected_date_formats\":\"yyyy-M-d\"}",
         "name": "Data Nascimento",
         "type": "\"date\""
        },
        {
         "metadata": "{}",
         "name": "Departamento",
         "type": "\"string\""
        },
        {
         "metadata": "{}",
         "name": "Empresa",
         "type": "\"string\""
        },
        {
         "metadata": "{}",
         "name": "ID",
         "type": "\"integer\""
        },
        {
         "metadata": "{}",
         "name": "Nome",
         "type": "\"string\""
        },
        {
         "metadata": "{}",
         "name": "RG",
         "type": "\"string\""
        }
       ],
       "type": "table"
      }
     },
     "output_type": "display_data"
    }
   ],
   "source": [
    "display(df_new)"
   ]
  },
  {
   "cell_type": "code",
   "execution_count": null,
   "metadata": {
    "application/vnd.databricks.v1+cell": {
     "cellMetadata": {
      "byteLimit": 2048000,
      "rowLimit": 10000
     },
     "inputWidgets": {},
     "nuid": "ef998fd2-4829-45a2-941f-3ca07239cf1e",
     "showTitle": false,
     "title": ""
    }
   },
   "outputs": [],
   "source": [
    "df_new.coalesce(1)\\\n",
    "      .write\\\n",
    "      .format(\"parquet\")\\\n",
    "      .mode(\"overwrite\")\\\n",
    "      .save(\"/mnt/projetodados/processing/faker_process_parquet/\")"
   ]
  },
  {
   "cell_type": "code",
   "execution_count": null,
   "metadata": {
    "application/vnd.databricks.v1+cell": {
     "cellMetadata": {
      "byteLimit": 2048000,
      "rowLimit": 10000
     },
     "inputWidgets": {},
     "nuid": "d3cc54d2-2bac-4cfd-b92c-dc5997e080d3",
     "showTitle": false,
     "title": ""
    }
   },
   "outputs": [
    {
     "name": "stdout",
     "output_type": "stream",
     "text": [
      "Origem é: part-00000-tid-6328520085202957070-2c64ecd8-c44c-4342-b456-ff36f07266eb-28-1-c000.snappy.parquet Destino é: /mnt/projetodados/refined/faker_curated/tb_faker.parquet\n"
     ]
    }
   ],
   "source": [
    "mover_arquivo('.parquet', '/mnt/projetodados/processing/faker_process_parquet/', '/mnt/projetodados/refined/faker_curated/', 'tb_faker')"
   ]
  },
  {
   "cell_type": "code",
   "execution_count": null,
   "metadata": {
    "application/vnd.databricks.v1+cell": {
     "cellMetadata": {
      "byteLimit": 2048000,
      "rowLimit": 10000
     },
     "inputWidgets": {},
     "nuid": "9423ce37-b6de-439d-b3cb-9f3fc80f1c02",
     "showTitle": false,
     "title": ""
    }
   },
   "outputs": [],
   "source": [
    "df_parquet = spark.read.format(\"parquet\")\\\n",
    "                       .load(\"/mnt/projetodados/refined/faker_curated/tb_faker.parquet\")"
   ]
  },
  {
   "cell_type": "code",
   "execution_count": null,
   "metadata": {
    "application/vnd.databricks.v1+cell": {
     "cellMetadata": {
      "byteLimit": 2048000,
      "rowLimit": 10000
     },
     "inputWidgets": {},
     "nuid": "0e0889c2-1ee0-4637-a4b6-0c663b5c5448",
     "showTitle": false,
     "title": ""
    }
   },
   "outputs": [],
   "source": [
    "df_parquet.createOrReplaceTempView(\"view_df_parquet\")"
   ]
  },
  {
   "cell_type": "code",
   "execution_count": null,
   "metadata": {
    "application/vnd.databricks.v1+cell": {
     "cellMetadata": {
      "byteLimit": 2048000,
      "rowLimit": 10000
     },
     "inputWidgets": {},
     "nuid": "d8a28b07-5b8a-454c-94dc-61ae76a6e96f",
     "showTitle": false,
     "title": ""
    }
   },
   "outputs": [],
   "source": [
    "df_result = spark.sql(\"select * from view_df_parquet\") "
   ]
  },
  {
   "cell_type": "code",
   "execution_count": null,
   "metadata": {
    "application/vnd.databricks.v1+cell": {
     "cellMetadata": {
      "byteLimit": 2048000,
      "rowLimit": 10000
     },
     "inputWidgets": {},
     "nuid": "d8748f69-0a6f-4a15-a608-f288d119c0c2",
     "showTitle": false,
     "title": ""
    }
   },
   "outputs": [
    {
     "data": {
      "text/html": [
       "<style scoped>\n",
       "  .table-result-container {\n",
       "    max-height: 300px;\n",
       "    overflow: auto;\n",
       "  }\n",
       "  table, th, td {\n",
       "    border: 1px solid black;\n",
       "    border-collapse: collapse;\n",
       "  }\n",
       "  th, td {\n",
       "    padding: 5px;\n",
       "  }\n",
       "  th {\n",
       "    text-align: left;\n",
       "  }\n",
       "</style><div class='table-result-container'><table class='table-result'><thead style='background-color: white'><tr><th>CPF</th><th>Data Admissão</th><th>Data Nascimento</th><th>Departamento</th><th>Empresa</th><th>ID</th><th>Nome</th><th>RG</th></tr></thead><tbody><tr><td>641648456</td><td>2018-06-13</td><td>2000-02-03</td><td>Adm</td><td>GCP</td><td>1</td><td>Ana Sophia das Neves</td><td>630872107-7</td></tr><tr><td>79317942148</td><td>2020-05-29</td><td>1988-04-25</td><td>Operações</td><td>GCP</td><td>2</td><td>Igor Carvalho</td><td>163194938-1</td></tr><tr><td>89681176839</td><td>2017-07-31</td><td>1979-06-01</td><td>Adm</td><td>AZURE</td><td>3</td><td>Benjamin Souza</td><td>397306056-1</td></tr><tr><td>94875296835</td><td>2018-11-11</td><td>1972-09-28</td><td>Tecnologia</td><td>GCP</td><td>4</td><td>Dr. Cauã Cardoso</td><td>186415686-7</td></tr><tr><td>84082627855</td><td>2018-01-24</td><td>1989-01-27</td><td>Tecnologia</td><td>GCP</td><td>5</td><td>Thomas Fernandes</td><td>153735113-5</td></tr><tr><td>16712424321</td><td>2021-03-21</td><td>1983-03-04</td><td>Adm</td><td>AZURE</td><td>6</td><td>João Pedro Pires</td><td>660070999-1</td></tr><tr><td>84827815453</td><td>2017-11-15</td><td>1988-03-11</td><td>Operações</td><td>AZURE</td><td>7</td><td>Camila Costa</td><td>653613411-5</td></tr><tr><td>43550750102</td><td>2020-07-27</td><td>1978-11-17</td><td>Tecnologia</td><td>AZURE</td><td>8</td><td>Alexia Farias</td><td>394241627-8</td></tr><tr><td>2834633177</td><td>2019-03-20</td><td>1996-11-19</td><td>Adm</td><td>GCP</td><td>9</td><td>Stella Ferreira</td><td>965541093-9</td></tr><tr><td>57928754800</td><td>2017-12-01</td><td>1998-09-13</td><td>Tecnologia</td><td>AZURE</td><td>10</td><td>Danilo Novaes</td><td>862883541-5</td></tr></tbody></table></div>"
      ]
     },
     "metadata": {
      "application/vnd.databricks.v1+output": {
       "addedWidgets": {},
       "aggData": [],
       "aggError": "",
       "aggOverflow": false,
       "aggSchema": [],
       "aggSeriesLimitReached": false,
       "aggType": "",
       "arguments": {},
       "columnCustomDisplayInfos": {},
       "data": [
        [
         641648456,
         "2018-06-13",
         "2000-02-03",
         "Adm",
         "GCP",
         1,
         "Ana Sophia das Neves",
         "630872107-7"
        ],
        [
         79317942148,
         "2020-05-29",
         "1988-04-25",
         "Operações",
         "GCP",
         2,
         "Igor Carvalho",
         "163194938-1"
        ],
        [
         89681176839,
         "2017-07-31",
         "1979-06-01",
         "Adm",
         "AZURE",
         3,
         "Benjamin Souza",
         "397306056-1"
        ],
        [
         94875296835,
         "2018-11-11",
         "1972-09-28",
         "Tecnologia",
         "GCP",
         4,
         "Dr. Cauã Cardoso",
         "186415686-7"
        ],
        [
         84082627855,
         "2018-01-24",
         "1989-01-27",
         "Tecnologia",
         "GCP",
         5,
         "Thomas Fernandes",
         "153735113-5"
        ],
        [
         16712424321,
         "2021-03-21",
         "1983-03-04",
         "Adm",
         "AZURE",
         6,
         "João Pedro Pires",
         "660070999-1"
        ],
        [
         84827815453,
         "2017-11-15",
         "1988-03-11",
         "Operações",
         "AZURE",
         7,
         "Camila Costa",
         "653613411-5"
        ],
        [
         43550750102,
         "2020-07-27",
         "1978-11-17",
         "Tecnologia",
         "AZURE",
         8,
         "Alexia Farias",
         "394241627-8"
        ],
        [
         2834633177,
         "2019-03-20",
         "1996-11-19",
         "Adm",
         "GCP",
         9,
         "Stella Ferreira",
         "965541093-9"
        ],
        [
         57928754800,
         "2017-12-01",
         "1998-09-13",
         "Tecnologia",
         "AZURE",
         10,
         "Danilo Novaes",
         "862883541-5"
        ]
       ],
       "datasetInfos": [],
       "dbfsResultPath": null,
       "isJsonSchema": true,
       "metadata": {},
       "overflow": false,
       "plotOptions": {
        "customPlotOptions": {},
        "displayType": "table",
        "pivotAggregation": null,
        "pivotColumns": null,
        "xColumns": null,
        "yColumns": null
       },
       "removedWidgets": [],
       "schema": [
        {
         "metadata": "{}",
         "name": "CPF",
         "type": "\"long\""
        },
        {
         "metadata": "{\"__detected_date_formats\":\"yyyy-M-d\"}",
         "name": "Data Admissão",
         "type": "\"date\""
        },
        {
         "metadata": "{\"__detected_date_formats\":\"yyyy-M-d\"}",
         "name": "Data Nascimento",
         "type": "\"date\""
        },
        {
         "metadata": "{}",
         "name": "Departamento",
         "type": "\"string\""
        },
        {
         "metadata": "{}",
         "name": "Empresa",
         "type": "\"string\""
        },
        {
         "metadata": "{}",
         "name": "ID",
         "type": "\"integer\""
        },
        {
         "metadata": "{}",
         "name": "Nome",
         "type": "\"string\""
        },
        {
         "metadata": "{}",
         "name": "RG",
         "type": "\"string\""
        }
       ],
       "type": "table"
      }
     },
     "output_type": "display_data"
    }
   ],
   "source": [
    "display(df_result)"
   ]
  },
  {
   "cell_type": "code",
   "execution_count": null,
   "metadata": {
    "application/vnd.databricks.v1+cell": {
     "cellMetadata": {},
     "inputWidgets": {},
     "nuid": "aa30ff16-5156-4c84-bdc8-c6c94f82d9fb",
     "showTitle": false,
     "title": ""
    }
   },
   "outputs": [],
   "source": []
  }
 ],
 "metadata": {
  "application/vnd.databricks.v1+notebook": {
   "dashboards": [],
   "language": "python",
   "notebookMetadata": {
    "pythonIndentUnit": 4
   },
   "notebookName": "Faker",
   "notebookOrigID": 3527869124562040,
   "widgets": {}
  },
  "language_info": {
   "name": "python"
  }
 },
 "nbformat": 4,
 "nbformat_minor": 0
}
